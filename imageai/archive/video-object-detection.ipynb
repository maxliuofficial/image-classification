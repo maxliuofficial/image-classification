{
 "cells": [
  {
   "cell_type": "code",
   "execution_count": 2,
   "metadata": {},
   "outputs": [],
   "source": [
    "from imageai.Detection import VideoObjectDetection"
   ]
  },
  {
   "cell_type": "code",
   "execution_count": 3,
   "metadata": {},
   "outputs": [
    {
     "name": "stdout",
     "output_type": "stream",
     "text": [
      "WARNING:tensorflow:From /home/maxliu/.local/lib/python3.6/site-packages/tensorflow/python/ops/array_ops.py:1354: add_dispatch_support.<locals>.wrapper (from tensorflow.python.ops.array_ops) is deprecated and will be removed in a future version.\n",
      "Instructions for updating:\n",
      "Use tf.where in 2.0, which has the same broadcast rule as np.where\n"
     ]
    }
   ],
   "source": [
    "# define object detector\n",
    "detector = VideoObjectDetection()\n",
    "detector.setModelTypeAsYOLOv3()\n",
    "detector.setModelPath(\"models/yolo.h5\")\n",
    "\n",
    "# load model\n",
    "detector.loadModel()"
   ]
  },
  {
   "cell_type": "code",
   "execution_count": 11,
   "metadata": {},
   "outputs": [
    {
     "name": "stdout",
     "output_type": "stream",
     "text": [
      "SECOND:  1\n",
      "bus :  67.55232214927673\n",
      "car :  92.12148785591125\n",
      "person :  99.60927367210388\n",
      "truck :  72.76459336280823\n",
      "suitcase :  87.95366883277893\n",
      "\n",
      "------------END OF A SECOND --------------\n",
      "\n"
     ]
    }
   ],
   "source": [
    "# helper function to output analysis of video per second\n",
    "def sec_analysis(sec, objects_detected_per_frame, object_counts, objects_detected_per_second):\n",
    "    obj_dict = {}\n",
    "    print(\"SECOND: \", sec)\n",
    "    \n",
    "    # input obj classification from highest probability frame into dictionary\n",
    "    for lst in objects_detected_per_frame:\n",
    "        for obj in lst:\n",
    "            if obj['name'] not in obj_dict:\n",
    "                obj_dict[obj['name']] = obj['percentage_probability']\n",
    "            else:\n",
    "                if obj['percentage_probability'] > obj_dict[obj['name']]:\n",
    "                    obj_dict[obj['name']] = obj['percentage_probability']\n",
    "    \n",
    "    for k,v in obj_dict.items():\n",
    "        print(k, ': ', v)\n",
    "                    \n",
    "    print(\"\\n------------END OF A SECOND --------------\\n\")\n",
    "\n",
    "# run object detection\n",
    "video = detector.detectObjectsFromVideo(input_file_path=\"input/security-cam.mp4\",\n",
    "                            output_file_path=\"output/security-cam-new\", \n",
    "                            frames_per_second=20, minimum_percentage_probability, \n",
    "                                        detection_timeout=5, per_second_function=sec_analysis)"
   ]
  }
 ],
 "metadata": {
  "kernelspec": {
   "display_name": "Python 3",
   "language": "python",
   "name": "python3"
  },
  "language_info": {
   "codemirror_mode": {
    "name": "ipython",
    "version": 3
   },
   "file_extension": ".py",
   "mimetype": "text/x-python",
   "name": "python",
   "nbconvert_exporter": "python",
   "pygments_lexer": "ipython3",
   "version": "3.6.8"
  }
 },
 "nbformat": 4,
 "nbformat_minor": 2
}
