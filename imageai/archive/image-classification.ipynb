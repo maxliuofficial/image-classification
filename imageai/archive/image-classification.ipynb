{
 "cells": [
  {
   "cell_type": "code",
   "execution_count": 2,
   "metadata": {},
   "outputs": [],
   "source": [
    "from imageai.Prediction import ImagePrediction"
   ]
  },
  {
   "cell_type": "code",
   "execution_count": 4,
   "metadata": {},
   "outputs": [],
   "source": [
    "# define image classifier \n",
    "prediction = ImagePrediction()\n",
    "prediction.setModelTypeAsInceptionV3()\n",
    "prediction.setModelPath('models/inceptionv3.h5')\n",
    "\n",
    "# load model\n",
    "prediction.loadModel()"
   ]
  },
  {
   "cell_type": "code",
   "execution_count": 5,
   "metadata": {},
   "outputs": [],
   "source": [
    "# run single image classification\n",
    "predictions, probabilities = prediction.predictImage('input/dog1.jpg', result_count=10)"
   ]
  },
  {
   "cell_type": "code",
   "execution_count": 6,
   "metadata": {},
   "outputs": [
    {
     "name": "stdout",
     "output_type": "stream",
     "text": [
      "Blenheim_spaniel  :  99.99873638153076\n",
      "Japanese_spaniel  :  0.0007204715984698851\n",
      "Sussex_spaniel  :  0.00027238470465817954\n",
      "papillon  :  0.0001917057943501277\n",
      "toy_poodle  :  8.636757797830796e-06\n",
      "Brittany_spaniel  :  7.737865104218145e-06\n",
      "partridge  :  4.497962180494142e-06\n",
      "cocker_spaniel  :  3.1937879896304366e-06\n",
      "Welsh_springer_spaniel  :  3.1752744433788394e-06\n",
      "Irish_setter  :  3.0638119596915203e-06\n"
     ]
    }
   ],
   "source": [
    "# print single image results\n",
    "for eachPrediction, eachProbability in zip(predictions, probabilities):\n",
    "    print(eachPrediction , \" : \" , eachProbability)"
   ]
  }
 ],
 "metadata": {
  "kernelspec": {
   "display_name": "Python 3",
   "language": "python",
   "name": "python3"
  },
  "language_info": {
   "codemirror_mode": {
    "name": "ipython",
    "version": 3
   },
   "file_extension": ".py",
   "mimetype": "text/x-python",
   "name": "python",
   "nbconvert_exporter": "python",
   "pygments_lexer": "ipython3",
   "version": "3.6.8"
  }
 },
 "nbformat": 4,
 "nbformat_minor": 2
}
