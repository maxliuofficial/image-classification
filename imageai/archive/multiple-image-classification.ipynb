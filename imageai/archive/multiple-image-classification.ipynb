{
 "cells": [
  {
   "cell_type": "code",
   "execution_count": 3,
   "metadata": {},
   "outputs": [],
   "source": [
    "from imageai.Prediction import ImagePrediction\n",
    "import os"
   ]
  },
  {
   "cell_type": "code",
   "execution_count": 5,
   "metadata": {},
   "outputs": [],
   "source": [
    "# define image classifier \n",
    "multiple_prediction = ImagePrediction()\n",
    "multiple_prediction.setModelTypeAsInceptionV3()\n",
    "multiple_prediction.setModelPath('models/inceptionv3.h5')\n",
    "\n",
    "# load model\n",
    "multiple_prediction.loadModel()"
   ]
  },
  {
   "cell_type": "code",
   "execution_count": 6,
   "metadata": {},
   "outputs": [],
   "source": [
    "# load image files into array\n",
    "images = []\n",
    "all_files = os.listdir('input')\n",
    "for file in all_files:\n",
    "    if(file.endswith(\".jpg\") or file.endswith(\".jpeg\")):\n",
    "        images.append(os.path.join('input', file))\n",
    "\n",
    "# run multiple image prediction\n",
    "predictions = multiple_prediction.predictMultipleImages(images, result_count_per_image=5)"
   ]
  },
  {
   "cell_type": "code",
   "execution_count": 7,
   "metadata": {},
   "outputs": [
    {
     "name": "stdout",
     "output_type": "stream",
     "text": [
      "Blenheim_spaniel  :  99.99873638153076\n",
      "Japanese_spaniel  :  0.0007204715984698851\n",
      "Sussex_spaniel  :  0.00027238470465817954\n",
      "papillon  :  0.0001917057943501277\n",
      "toy_poodle  :  8.636757797830796e-06\n",
      "-----------------------\n",
      "forklift  :  85.85920333862305\n",
      "trolleybus  :  11.783645302057266\n",
      "minibus  :  0.7109782192856073\n",
      "streetcar  :  0.6346601527184248\n",
      "garbage_truck  :  0.5926824640482664\n",
      "-----------------------\n",
      "canoe  :  76.8865168094635\n",
      "paddle  :  23.0539470911026\n",
      "catamaran  :  0.009997429879149422\n",
      "yawl  :  0.002348811540286988\n",
      "trimaran  :  0.001310208608629182\n",
      "-----------------------\n",
      "stage  :  49.745696783065796\n",
      "altar  :  36.413583159446716\n",
      "church  :  3.9488717913627625\n",
      "restaurant  :  2.204488590359688\n",
      "slot  :  2.155449613928795\n",
      "-----------------------\n",
      "cab  :  99.91003274917603\n",
      "street_sign  :  0.024172566190827638\n",
      "parking_meter  :  0.013853721611667424\n",
      "toyshop  :  0.013366021448746324\n",
      "traffic_light  :  0.01221068378072232\n",
      "-----------------------\n"
     ]
    }
   ],
   "source": [
    "# print resuts for all images\n",
    "for result in predictions:\n",
    "    prediction, probability = result[\"predictions\"], result[\"percentage_probabilities\"]\n",
    "    for index in range(len(prediction)):\n",
    "        print(prediction[index] , \" : \" , probability[index])\n",
    "    print(\"-----------------------\")"
   ]
  }
 ],
 "metadata": {
  "kernelspec": {
   "display_name": "Python 3",
   "language": "python",
   "name": "python3"
  },
  "language_info": {
   "codemirror_mode": {
    "name": "ipython",
    "version": 3
   },
   "file_extension": ".py",
   "mimetype": "text/x-python",
   "name": "python",
   "nbconvert_exporter": "python",
   "pygments_lexer": "ipython3",
   "version": "3.6.8"
  }
 },
 "nbformat": 4,
 "nbformat_minor": 2
}
