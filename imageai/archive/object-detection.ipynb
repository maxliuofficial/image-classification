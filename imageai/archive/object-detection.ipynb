{
 "cells": [
  {
   "cell_type": "code",
   "execution_count": 1,
   "metadata": {},
   "outputs": [
    {
     "name": "stderr",
     "output_type": "stream",
     "text": [
      "Using TensorFlow backend.\n"
     ]
    }
   ],
   "source": [
    "from imageai.Detection import ObjectDetection"
   ]
  },
  {
   "cell_type": "code",
   "execution_count": 25,
   "metadata": {},
   "outputs": [],
   "source": [
    "# define object detector\n",
    "detector = ObjectDetection()\n",
    "detector.setModelTypeAsYOLOv3()\n",
    "detector.setModelPath(\"models/yolo.h5\")\n",
    "\n",
    "# load model\n",
    "detector.loadModel()"
   ]
  },
  {
   "cell_type": "code",
   "execution_count": 29,
   "metadata": {},
   "outputs": [],
   "source": [
    "# run object detection\n",
    "detections, extractions = detector.detectObjectsFromImage(input_image=\"input/tokyo2.jpg\", output_image_path=\"output/tokyo2new.jpg\", extract_detected_objects=True)"
   ]
  },
  {
   "cell_type": "code",
   "execution_count": 30,
   "metadata": {},
   "outputs": [
    {
     "name": "stdout",
     "output_type": "stream",
     "text": [
      "car  :  83.1432044506073\n",
      "car  :  94.41637992858887\n",
      "person  :  51.55843496322632\n",
      "person  :  64.26092386245728\n",
      "person  :  68.919438123703\n",
      "person  :  84.08018946647644\n",
      "person  :  90.7621443271637\n",
      "person  :  95.93999981880188\n",
      "person  :  96.94961309432983\n",
      "person  :  96.95806503295898\n",
      "person  :  97.34681844711304\n",
      "person  :  99.61751699447632\n"
     ]
    }
   ],
   "source": [
    "# print results\n",
    "for eachObject in detections:\n",
    "    print(eachObject[\"name\"] , \" : \" , eachObject[\"percentage_probability\"] )"
   ]
  }
 ],
 "metadata": {
  "kernelspec": {
   "display_name": "Python 3",
   "language": "python",
   "name": "python3"
  },
  "language_info": {
   "codemirror_mode": {
    "name": "ipython",
    "version": 3
   },
   "file_extension": ".py",
   "mimetype": "text/x-python",
   "name": "python",
   "nbconvert_exporter": "python",
   "pygments_lexer": "ipython3",
   "version": "3.6.8"
  }
 },
 "nbformat": 4,
 "nbformat_minor": 2
}
